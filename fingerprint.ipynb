{
 "cells": [
  {
   "cell_type": "markdown",
   "id": "ac7dc1c9-8c43-41fe-b648-ef11990e7136",
   "metadata": {},
   "source": [
    "Fingerprint would be help to answer the question about how computer represents molecules? and how to Quickly compare two complicated structures?\n",
    "\n",
    "If the fingerprint matches, the two structures are not guaranteed to be exactly the same.\n",
    "\n",
    "But should the fingerprint does not even match, the two structures are for sure different."
   ]
  },
  {
   "cell_type": "code",
   "execution_count": 2,
   "id": "f3b23611-d7a9-4591-8eb9-abe60fb00f77",
   "metadata": {},
   "outputs": [],
   "source": [
    "from rdkit import Chem\n",
    "\n",
    "sm = \"C1=CC=CC=C1\"\n",
    "mol = Chem.MolFromSmiles(sm)"
   ]
  },
  {
   "cell_type": "markdown",
   "id": "2f1437dd-f89a-48d9-9b35-9366d425f8bc",
   "metadata": {},
   "source": [
    "The MACCS FP is a standardised 166-bit vector that each bit represents a given chemical feature. [Link](https://github.com/rdkit/rdkit/blob/master/rdkit/Chem/MACCSkeys.py)."
   ]
  },
  {
   "cell_type": "code",
   "execution_count": 3,
   "id": "e70d8ca8-93f9-4f5d-835e-34b613550480",
   "metadata": {},
   "outputs": [],
   "source": [
    "from rdkit.Chem import MACCSkeys\n",
    "fp = MACCSkeys.GenMACCSKeys(mol)"
   ]
  },
  {
   "cell_type": "code",
   "execution_count": 5,
   "id": "ecb8df77-88da-4f2d-a08d-e9d95f6b2dbc",
   "metadata": {},
   "outputs": [
    {
     "name": "stdout",
     "output_type": "stream",
     "text": [
      "<rdkit.DataStructs.cDataStructs.ExplicitBitVect object at 0x000001A5379316C0>\n"
     ]
    }
   ],
   "source": [
    "print(fp) #see, it is a bit vector!"
   ]
  },
  {
   "cell_type": "code",
   "execution_count": 6,
   "id": "281c6ce8-8dda-4970-915d-96ad85b55b46",
   "metadata": {},
   "outputs": [
    {
     "data": {
      "text/plain": [
       "'00000000000000000000000000000000000000000000000000000000000000000000000000000000000000000000000000000000000000000000000000000000000000000000000000000000000000000011010'"
      ]
     },
     "execution_count": 6,
     "metadata": {},
     "output_type": "execute_result"
    }
   ],
   "source": [
    "fp.ToBitString()"
   ]
  },
  {
   "cell_type": "markdown",
   "id": "c19f7620-299a-421e-a38c-8c980bab078a",
   "metadata": {},
   "source": [
    "if we take a look at the documentation on rdkit - MACCSkeys, check what is the bit equals 1.\n",
    "\n",
    "We can find position 162, 163, 165 are 1, the rest are all 0.\n",
    "\n",
    "What does that mean?\n",
    "\n",
    "162 - Aromatic\n",
    "163 - 6-membered ring\n",
    "165 - Ring\n",
    "\n",
    "It makes sense because our imput smiles is a benzene."
   ]
  },
  {
   "cell_type": "code",
   "execution_count": 7,
   "id": "36ee535f-9a70-4a3e-89ec-1b7fb167a4dc",
   "metadata": {},
   "outputs": [],
   "source": [
    "#Above, I count the 1 from the end of the string (and because I know it has 166 positions, so it's easy to find the last few 1s)\n",
    "\n",
    "#there are a few functions to automatically pick out the 1 and 0 position"
   ]
  },
  {
   "cell_type": "code",
   "execution_count": 8,
   "id": "d7fd05c4-b0db-4c1b-96a3-7887374049f3",
   "metadata": {},
   "outputs": [
    {
     "name": "stdout",
     "output_type": "stream",
     "text": [
      "Total number of bits: 167\n",
      "Total number of 0 - off bits: 164\n",
      "Total number of 1 - on bits: 3\n"
     ]
    }
   ],
   "source": [
    "print(f\"Total number of bits: {fp.GetNumBits()}\") # get the total number of bits\n",
    "print(f\"Total number of 0 - off bits: {fp.GetNumOffBits()}\")\n",
    "print(f\"Total number of 1 - on bits: {fp.GetNumOnBits()}\")"
   ]
  },
  {
   "cell_type": "code",
   "execution_count": 9,
   "id": "e4d346c7-09e4-4b68-bf4e-18cc13f1707c",
   "metadata": {},
   "outputs": [],
   "source": [
    "fp_bit_string = fp.ToBitString()"
   ]
  },
  {
   "cell_type": "code",
   "execution_count": 12,
   "id": "08127b19-d634-4fee-9591-f035d8386a1d",
   "metadata": {},
   "outputs": [
    {
     "data": {
      "text/plain": [
       "167"
      ]
     },
     "execution_count": 12,
     "metadata": {},
     "output_type": "execute_result"
    }
   ],
   "source": [
    "len(fp_bit_string) #the first bit is set as 0 in a 167-bit string so as to keep the index starting at 1"
   ]
  },
  {
   "cell_type": "code",
   "execution_count": 21,
   "id": "57c16b17-11d8-443b-946d-f27ed6546ab0",
   "metadata": {},
   "outputs": [
    {
     "name": "stdout",
     "output_type": "stream",
     "text": [
      "[{'idx': 162, 'chem_mean': ('a', 0)}, {'idx': 163, 'chem_mean': ('*1~*~*~*~*~*~1', 0)}, {'idx': 165, 'chem_mean': ('[R]', 0)}]\n"
     ]
    }
   ],
   "source": [
    "all_on_bit = []\n",
    "\n",
    "for i in range(len(fp_bit_string)):\n",
    "    on_bit = {}\n",
    "    this_bit = int(fp_bit_string[i])\n",
    "    if this_bit == 1:\n",
    "        on_bit[\"idx\"] = i\n",
    "        on_bit[\"chem_mean\"] = MACCSkeys.smartsPatts[i]\n",
    "        all_on_bit.append(on_bit)\n",
    "\n",
    "print(all_on_bit)\n",
    "        "
   ]
  },
  {
   "cell_type": "markdown",
   "id": "3a58f4ad-fe93-4ce0-9399-ff90c6c6ebcc",
   "metadata": {},
   "source": [
    "Morgan - circular fp, radius-based\n",
    "\n",
    "cf. ECFP and FCFP, diameter-based"
   ]
  },
  {
   "cell_type": "code",
   "execution_count": 25,
   "id": "bfd17ede-cbc1-4369-a90c-54f578a28c7f",
   "metadata": {},
   "outputs": [
    {
     "name": "stdout",
     "output_type": "stream",
     "text": [
      "1024\n",
      "0000000000000000000000000000000000000000000000000000000000000000100000000000000000000000000000000000000000000000000000000000000000000000000000000000000000000000000000000000000000000000000000000000000000000000000000000000000000000000000000000000000000000000000000000000000000000000000000000000000000000000000000000000000000000000000000000000000000000000000000000000000000000000000000000000010000000000000000000000000000000000000000000000000000000000000000000000000000000000000000000000000000000000000000000000000000000000000000000000000000000000000000000000000000000000000000000000000000000000000000000000000000000000000000000000000000000000000000000000000000000000000000000000000000000000000000000000000000000000000000000000000000000000000000000000000000000000000000000000000000000000000000000000000000000000000000000000000000000000000000000000000001000000000000000000000000000000000000000000000000000000000000000000000000000000000000000000000000000000000000000000000000000000000000000000000000000000000000000000000000000000\n"
     ]
    }
   ],
   "source": [
    "from rdkit.Chem import AllChem\n",
    "fp = AllChem.GetMorganFingerprintAsBitVect(mol, 2, nBits = 1024).ToBitString() #2 means two atoms from the centre heavy atom, the radius\n",
    "print(len(fp)) #determined by the nBits\n",
    "print(fp)"
   ]
  },
  {
   "cell_type": "code",
   "execution_count": 35,
   "id": "c216d57f-70f6-4b97-81d4-b9975350d791",
   "metadata": {},
   "outputs": [],
   "source": [
    "#a test to first get smiles from synonyms, then get the FCFP from rdkit\n",
    "import requests\n",
    "import time\n",
    "\n",
    "url = \"https://pubchem.ncbi.nlm.nih.gov/rest/pug/compound/name/diphenhydramine/property/IsomericSMILES/txt\"\n",
    "res = requests.get(url)"
   ]
  },
  {
   "cell_type": "code",
   "execution_count": 36,
   "id": "2d25f893-ba18-41ca-a8f1-bc5bce35cb61",
   "metadata": {},
   "outputs": [
    {
     "name": "stdout",
     "output_type": "stream",
     "text": [
      "CN(C)CCOC(C1=CC=CC=C1)C2=CC=CC=C2\n",
      "\n"
     ]
    }
   ],
   "source": [
    "print(res.text)"
   ]
  },
  {
   "cell_type": "code",
   "execution_count": 37,
   "id": "70a36604-9613-4a96-9b68-40ce9079f2f6",
   "metadata": {},
   "outputs": [],
   "source": [
    "sm = res.text.rstrip()"
   ]
  },
  {
   "cell_type": "code",
   "execution_count": 38,
   "id": "3fe04671-1d9f-4173-9ed1-4fe30678c1ad",
   "metadata": {},
   "outputs": [],
   "source": [
    "mol = Chem.MolFromSmiles(sm)"
   ]
  },
  {
   "cell_type": "code",
   "execution_count": 39,
   "id": "171c803c-3841-4daa-b357-f08d3bf28573",
   "metadata": {},
   "outputs": [
    {
     "name": "stdout",
     "output_type": "stream",
     "text": [
      "01000000000001000000000000000000010000000000010000000000000000001000000000100000100000000000000100000000000000000000000000000000000000000001100000000000000000000000000000000001000001010000000100000000000000000000001000000000010000000000000000000000000000000000000000010000001000000000000000000000000000100001000000001000000000000000000001000100000000000000100000100000010000000000000000000100000010000000000100010001000000000000000000000000000000000000000000000000000000000000000000000010000000000000100000000000\n"
     ]
    }
   ],
   "source": [
    "fp = AllChem.GetMorganFingerprintAsBitVect(mol, 3, nBits = 512).ToBitString()\n",
    "print(fp)"
   ]
  },
  {
   "cell_type": "markdown",
   "id": "862fbd5f-b5fa-4018-8a04-71cf467f1d50",
   "metadata": {},
   "source": [
    "topological fingreprint (rdkit fp), enumerate through a range of length of pathway"
   ]
  },
  {
   "cell_type": "code",
   "execution_count": null,
   "id": "e40c2f4e-ee04-4e95-b225-3d02081bd01c",
   "metadata": {},
   "outputs": [],
   "source": []
  }
 ],
 "metadata": {
  "kernelspec": {
   "display_name": "Python 3 (ipykernel)",
   "language": "python",
   "name": "python3"
  },
  "language_info": {
   "codemirror_mode": {
    "name": "ipython",
    "version": 3
   },
   "file_extension": ".py",
   "mimetype": "text/x-python",
   "name": "python",
   "nbconvert_exporter": "python",
   "pygments_lexer": "ipython3",
   "version": "3.10.13"
  }
 },
 "nbformat": 4,
 "nbformat_minor": 5
}
