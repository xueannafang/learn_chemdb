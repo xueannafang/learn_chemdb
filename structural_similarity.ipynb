{
 "cells": [
  {
   "cell_type": "markdown",
   "id": "286cd428-936b-4888-bec8-817b13112653",
   "metadata": {},
   "source": [
    "2d similarity\n",
    "the similarity threshold can be modified by its percentage (note that this would not be appliable to 3d similarity search, otherwise it would exceed time limit)"
   ]
  },
  {
   "cell_type": "code",
   "execution_count": 1,
   "id": "3fec19f7-c102-4b91-b15a-889b52b8c0f1",
   "metadata": {},
   "outputs": [
    {
     "name": "stdout",
     "output_type": "stream",
     "text": [
      "['9875401', '6433119', '11524901', '25255944', '159596345', '154630277', '145624246', '145624236', '144489887', '143433422', '123868009', '68152323', '56598114', '56589668', '25190310', '25164166', '11994745', '25190129', '25190130', '25190186', '25190187', '25190188', '25190189', '25190190', '25190248', '25190249', '25190250', '25190251', '25190252', '25190311', '25255845', '25255945', '25255946', '49849874', '133687098', '156594383', '169435566']\n"
     ]
    }
   ],
   "source": [
    "import requests\n",
    "\n",
    "mydata = { 'smiles' : \"C1COCC(=O)N1C2=CC=C(C=C2)N3C[C@@H](OC3=O)CNC(=O)C4=CC=C(S4)Cl\" }\n",
    "fast_what = \"fastsimilarity_2d\"\n",
    "similarity_threshold = \"99\"\n",
    "prolog = \"https://pubchem.ncbi.nlm.nih.gov/rest/pug\"\n",
    "url = prolog + \"/compound/\" + fast_what + \"/smiles/cids/txt/?Threshold=\" + similarity_threshold\n",
    "res = requests.post(url, data = mydata)\n",
    "cids = res.text.split()\n",
    "\n",
    "print(cids)"
   ]
  },
  {
   "cell_type": "markdown",
   "id": "7c756b89-42f1-4983-9e12-dab6b5a10a01",
   "metadata": {},
   "source": [
    "Important concepts in 3D similarity:\n",
    "shape-tanimoto (steric similarity), color-tanimoto (overlap of functional groups), combo-tanimoto (the sum of the other two)\n",
    "ST and CT will be default as 80% and 50%"
   ]
  },
  {
   "cell_type": "code",
   "execution_count": 3,
   "id": "8385a51d-7c55-4e6e-9aa2-e8c84ba467cb",
   "metadata": {},
   "outputs": [],
   "source": [
    "fast_what = 'fastsimilarity_3d'\n",
    "url = prolog + \"/compound/\" + fast_what + \"/smiles/cids/txt/\"\n",
    "res = requests.post(url, data = mydata)\n",
    "cids = res.text.split()"
   ]
  },
  {
   "cell_type": "code",
   "execution_count": 4,
   "id": "aeb7e744-eb2e-4941-aee2-1e3818ac8b86",
   "metadata": {},
   "outputs": [
    {
     "name": "stdout",
     "output_type": "stream",
     "text": [
      "['9875401', '11618984', '11525292', '11718954', '6433119', '11711363', '11569203', '11539245', '10160285', '10202260', '21070756', '21070661', '23105360', '90295614', '126495112', '44355556', '166632706', '90139595', '10161902', '58777757', '11583256', '101578463', '10138114', '10274887', '10161422', '10183784', '166632667', '74399761', '44274320', '11546456', '129900336', '9797059', '10591562', '44430618', '19418136', '11575714', '14987857', '11393033', '10757894']\n"
     ]
    }
   ],
   "source": [
    "print(cids)"
   ]
  },
  {
   "cell_type": "code",
   "execution_count": null,
   "id": "1c56405b-b707-4e0f-a330-2f90ea83c3fa",
   "metadata": {},
   "outputs": [],
   "source": []
  }
 ],
 "metadata": {
  "kernelspec": {
   "display_name": "Python 3 (ipykernel)",
   "language": "python",
   "name": "python3"
  },
  "language_info": {
   "codemirror_mode": {
    "name": "ipython",
    "version": 3
   },
   "file_extension": ".py",
   "mimetype": "text/x-python",
   "name": "python",
   "nbconvert_exporter": "python",
   "pygments_lexer": "ipython3",
   "version": "3.10.13"
  }
 },
 "nbformat": 4,
 "nbformat_minor": 5
}
