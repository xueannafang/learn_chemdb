{
 "cells": [
  {
   "cell_type": "markdown",
   "id": "d04fc4df-805c-4edb-a050-1b3d7dfe0cbf",
   "metadata": {},
   "source": [
    "Use rdkit and mordred to get molecular descriptors\n",
    "\n",
    "doc for [mordred](https://mordred-descriptor.github.io/documentation/master/api/modules.html)"
   ]
  },
  {
   "cell_type": "code",
   "execution_count": 2,
   "id": "f294f2ef-1cd0-4e75-bebb-e617304df8d4",
   "metadata": {},
   "outputs": [],
   "source": [
    "from rdkit import Chem\n",
    "from mordred import Calculator, descriptors"
   ]
  },
  {
   "cell_type": "code",
   "execution_count": 3,
   "id": "390381d7-992e-4b6b-97ec-d68e152130b4",
   "metadata": {},
   "outputs": [],
   "source": [
    "calc = Calculator(descriptors, ignore_3D = True)"
   ]
  },
  {
   "cell_type": "code",
   "execution_count": 7,
   "id": "2bdadc1d-f827-4293-b65f-5ce6ebfafaa0",
   "metadata": {},
   "outputs": [
    {
     "name": "stdout",
     "output_type": "stream",
     "text": [
      "1613\n"
     ]
    }
   ],
   "source": [
    "print(len(calc.descriptors)) # these are all descriptors"
   ]
  },
  {
   "cell_type": "code",
   "execution_count": 8,
   "id": "3286b7c2-59a3-47eb-b313-9ca62d8b1211",
   "metadata": {},
   "outputs": [],
   "source": [
    "#A quantitative representation of molecule: the sum of distance between two atoms in the molecule"
   ]
  },
  {
   "cell_type": "code",
   "execution_count": null,
   "id": "de899b6c-4d8e-41ed-9f70-90ac65b62885",
   "metadata": {},
   "outputs": [],
   "source": []
  }
 ],
 "metadata": {
  "kernelspec": {
   "display_name": "Python 3 (ipykernel)",
   "language": "python",
   "name": "python3"
  },
  "language_info": {
   "codemirror_mode": {
    "name": "ipython",
    "version": 3
   },
   "file_extension": ".py",
   "mimetype": "text/x-python",
   "name": "python",
   "nbconvert_exporter": "python",
   "pygments_lexer": "ipython3",
   "version": "3.10.13"
  }
 },
 "nbformat": 4,
 "nbformat_minor": 5
}
